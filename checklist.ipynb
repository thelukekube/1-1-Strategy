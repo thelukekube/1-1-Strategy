{
 "cells": [
  {
   "cell_type": "markdown",
   "id": "e89bba66",
   "metadata": {},
   "source": [
    "TODOs:"
   ]
  },
  {
   "cell_type": "markdown",
   "id": "73323d22",
   "metadata": {},
   "source": [
    "1. Get fetched data to the Local data in JSON file \n",
    "2. "
   ]
  }
 ],
 "metadata": {
  "language_info": {
   "name": "python"
  }
 },
 "nbformat": 4,
 "nbformat_minor": 5
}
