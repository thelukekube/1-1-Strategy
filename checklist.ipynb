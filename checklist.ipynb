{
 "cells": [
  {
   "cell_type": "markdown",
   "id": "e89bba66",
   "metadata": {},
   "source": [
    "TODOs:"
   ]
  },
  {
   "cell_type": "markdown",
   "id": "73323d22",
   "metadata": {},
   "source": [
    "1. Localize files in JSON format to be able to test it on local data (larger sample sizes)\n",
    "2. "
   ]
  }
 ],
 "metadata": {
  "language_info": {
   "name": "python"
  }
 },
 "nbformat": 4,
 "nbformat_minor": 5
}
